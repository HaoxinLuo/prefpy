{
 "metadata": {
  "name": "",
  "signature": "sha256:431903fd702fa16cae15d954980f1056e4836214caf334bf8b02c646bf19121a"
 },
 "nbformat": 3,
 "nbformat_minor": 0,
 "worksheets": [
  {
   "cells": [
    {
     "cell_type": "code",
     "collapsed": false,
     "input": [
      "%pylab inline\n",
      "import scipy.stats as sps\n",
      "            \n",
      "def approx_s(init_utilities, means, preferences, n_iters):\n",
      "    eps = 1e-13\n",
      "    # order is an arbitrary ordering over alternatives\n",
      "    # preferences is a dict {agent:preference list} for each agent i\n",
      "    \"\"\" Returns a matrix S of size n x m (n agents, m alternatives) sampled using Gibbs sampling \"\"\"\n",
      "    n, m = init_utilities.shape\n",
      "    lower_bound = numpy.min(init_utilities)\n",
      "    upper_bound = numpy.max(init_utilities)\n",
      "    utilities = []\n",
      "    utilities.append(init_utilities)\n",
      "    for k in range(n_iters):\n",
      "        U_k = numpy.zeros((n,m)) + numpy.nan # initialize the k+1th matrix with nans so we know when to sample from the kth matrix\n",
      "        for alternative in range(m):\n",
      "            for agent in range(n):\n",
      "                # we want to sample this alternative for this agent given that in the current iteration, we know the utilities for\n",
      "                # all of the other alternatives from previous sampling\n",
      "                pref_order = preferences[agent]\n",
      "                # get the preference position for this alternative\n",
      "                alt_ind = pref_order.index(alternative)\n",
      "                # then look at the utility we have for the position above and bound it above by that\n",
      "                next_best = pref_order[alt_ind - 1] if alt_ind > 0 else None\n",
      "                # then look at the utility we have for the position below it and bound it below by that\n",
      "                next_worst = pref_order[alt_ind + 1] if alt_ind < (len(pref_order)-1) else None\n",
      "                # figure out the bounds. We know if next_best / next_worst are below alternative, they've already been sampled\n",
      "                # into U_k, otherwise we have to take the sample from the previous (i.e kth) sample\n",
      "                if next_best == None:\n",
      "                    # this is the best, so bound it above by the max utility\n",
      "                    right_bound = upper_bound\n",
      "                elif next_best < alternative:\n",
      "                    # next_best has already been sampled and this is not the best\n",
      "                    right_bound = U_k[agent][next_best]\n",
      "                else:\n",
      "                    # next_best has not yet been sampled, so take it from the previous iteration\n",
      "                    right_bound = utilities[k][agent][next_best]\n",
      "                \n",
      "                # repeat for next_worst\n",
      "                if next_worst == None:\n",
      "                    # this is the worst, so bound it below by the min utility\n",
      "                    left_bound = lower_bound\n",
      "                elif next_worst < alternative:\n",
      "                    # next_worst has already been sampled and this is not the worst\n",
      "                    left_bound = U_k[agent][next_worst]\n",
      "                else:\n",
      "                    # next_worst has not yet been sampled, so take it from the previous iteration\n",
      "                    left_bound = utilities[k][agent][next_worst]\n",
      "                agent_mean = means[agent][alternative]\n",
      "                # then we'll make the distribution\n",
      "                distr = sps.truncnorm(left_bound - agent_mean, right_bound - agent_mean, loc=agent_mean) \n",
      "                # second arg is left bound, first is difference of right bound and left bound. Kinda wonky\n",
      "                sample = distr.rvs() # gives us one sample from the distribution\n",
      "                U_k[agent][alternative] = sample\n",
      "        if np.all(U_k - utilities[k] < 1e-13):\n",
      "            # convergence\n",
      "            print(k)\n",
      "            break\n",
      "        utilities.append(U_k)\n",
      "\n",
      "    return numpy.average(numpy.array(utilities),axis=0) # axis=0 takes the average across the primary dimension, i.e. iterations\n",
      "\n",
      "def estep(preferences, means, n_iters, A, eta_func):#  A is a function, Eta is the given natural parameters\n",
      "    # First get S\n",
      "    # generate the initial utilities for approximating S\n",
      "    Eta = eta_func(means) # convert means to 'natural parameters'.\n",
      "    n, m = means.shape\n",
      "    init_utilities = numpy.zeros((n, m)) # this is wrong, placeholder for now\n",
      "    for i in range(n):\n",
      "        for j in range(m):\n",
      "            # for each alternative, give it the utility of m - the index\n",
      "            init_utilities[i][j] = m - preferences[i].index(j) \n",
      "            # at some level we're just going to have to turn an arbitrary\n",
      "            # set of alternatives into a list [0-m]\n",
      "            \n",
      "    S = approx_s(init_utilities, means, preferences, n_iters)\n",
      "    Q = 0\n",
      "    for i in range(n):\n",
      "        for j in range(m):\n",
      "            Q += Eta[i][j]*S[i][j] - A(Eta[i][j])\n",
      "    #Q += W\n",
      "    \n",
      "    return Q\n",
      "    \n",
      "\n",
      "\n",
      "\n",
      "space = np.linspace(-1,2)\n",
      "rv = sps.truncnorm(a=-0.5,b=1,loc=0.5)\n",
      "print(rv.mean())\n",
      "pylab.plot(space, rv.pdf(space))\n",
      "pylab.show()"
     ],
     "language": "python",
     "metadata": {},
     "outputs": [
      {
       "output_type": "stream",
       "stream": "stdout",
       "text": [
        "Populating the interactive namespace from numpy and matplotlib\n",
        "0.706631218062\n"
       ]
      },
      {
       "metadata": {},
       "output_type": "display_data",
       "png": "[encoded data removed]",
       "text": [
        "<matplotlib.figure.Figure at 0x7f88a1aa30b8>"
       ]
      }
     ],
     "prompt_number": 151
    },
    {
     "cell_type": "code",
     "collapsed": false,
     "input": [
      "# mu_ij = delta_j + xi dot B dot zj' + eps_ij\n",
      "# loc corresponds to mean\n",
      "# scale corresponds to variance\n",
      "\n",
      "n = 3 # num agents\n",
      "m = 4 # num alternatives\n",
      "k = 6 # num features in an agent\n",
      "l = 5 # num features in an alternaitve\n",
      "delta = 0.1 * np.random.normal(loc=1,scale=1,size=(m))\n",
      "X = np.random.normal(loc=0,scale=1,size=(n,k))\n",
      "B = np.random.normal(loc=0,scale=1,size=(k,l))\n",
      "Z = np.random.normal(loc=0,scale=1,size=(m,l)) # this will need to be transposed but it makes indexing easier for now\n",
      "eps = np.random.normal(loc=0,scale=1,size=(n,m))\n",
      "\n",
      "mu = delta + np.dot(np.dot(X,B),Z.T) + eps\n",
      "\n",
      "# generate preferences from means\n",
      "prefs = []\n",
      "for i in range(n):\n",
      "    prefs.append(sorted(list(range(m)),key=lambda x: -mu[i][x]))\n",
      "\n",
      "A = lambda x: (x**2)/2\n",
      "sigma = 1\n",
      "eta_func = lambda x: x / sigma # for converting mean\n",
      "n_iters = 1000\n",
      "Q = estep(prefs, mu, n_iters, A, eta_func)"
     ],
     "language": "python",
     "metadata": {},
     "outputs": [
      {
       "output_type": "stream",
       "stream": "stdout",
       "text": [
        "219\n"
       ]
      }
     ],
     "prompt_number": 155
    },
    {
     "cell_type": "code",
     "collapsed": false,
     "input": [
      "print(delta, X, B, Z, eps)\n",
      "\n",
      "print(Q)"
     ],
     "language": "python",
     "metadata": {},
     "outputs": [
      {
       "output_type": "stream",
       "stream": "stdout",
       "text": [
        "[ 0.04053086  0.15656138  0.14254284  0.11879842] [[ 0.6241884   0.48352284 -0.12904623  0.8872092   1.85223833  0.99687858]\n",
        " [ 0.35867835  1.06488826 -1.42890296  1.63225006  0.18391084  1.39806472]\n",
        " [-0.87470448  0.04298626 -0.51932505  0.6638539   0.23388784 -0.17793156]] [[ -1.03036897e+00   6.66264497e-01   6.45639773e-01   1.29059445e+00\n",
        "    2.01049363e+00]\n",
        " [  1.33093308e-01   9.25029492e-01  -5.00579800e-01   9.27224938e-01\n",
        "    9.57326337e-01]\n",
        " [  1.49560723e+00   1.98928168e+00   1.85284544e+00   1.33108577e+00\n",
        "   -2.13289620e+00]\n",
        " [  1.61787057e+00  -4.02229897e-01  -2.14272804e-01   2.44312730e-01\n",
        "   -5.41273124e-04]\n",
        " [  2.70226084e-01  -7.06594752e-01  -1.10563152e-01   8.42960088e-01\n",
        "   -6.32275030e-01]\n",
        " [ -4.07393419e-01   3.67794524e-01  -1.29412292e+00   1.24969639e+00\n",
        "   -4.18204542e-02]] [[ 0.45204354 -0.43031881  0.15609996  1.76156794  0.57883638]\n",
        " [ 2.1498133  -0.82505621 -0.96088474  1.8873968   0.27235688]\n",
        " [-0.84249156  0.22711841  0.62754903  0.92136778 -0.48749759]\n",
        " [-2.40000392  0.24957237  0.34288989  0.28286436  1.27412351]] [[ 0.08489195  1.63325393 -0.22083571  0.57341883]\n",
        " [-0.07209107 -1.04814059 -1.26029931 -0.61182345]\n",
        " [-0.4868528  -0.18261366  1.52414306  0.4287883 ]]\n",
        "-86.0962957448\n"
       ]
      }
     ],
     "prompt_number": 154
    }
   ],
   "metadata": {}
  }
 ]
}